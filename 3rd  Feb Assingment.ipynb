{
 "cells": [
  {
   "cell_type": "markdown",
   "id": "b4140657",
   "metadata": {},
   "source": [
    "#### Q1. Which keyword is used to create a function? Create a function to return a list of odd numbers in the range of 1 to 25."
   ]
  },
  {
   "cell_type": "code",
   "execution_count": 3,
   "id": "0c6745ed",
   "metadata": {},
   "outputs": [],
   "source": [
    "# \"def\" keyword is used to create a function\n",
    "my_list = list(range(0,26))\n",
    "def odd_number(lst):\n",
    "    odd_lst = []\n",
    "    for i in lst:\n",
    "        if i % 2 != 0:\n",
    "            odd_lst.append(i)\n",
    "        else:\n",
    "            pass\n",
    "    return odd_lst\n",
    "    "
   ]
  },
  {
   "cell_type": "code",
   "execution_count": 4,
   "id": "33a3c26f",
   "metadata": {},
   "outputs": [
    {
     "data": {
      "text/plain": [
       "[1, 3, 5, 7, 9, 11, 13, 15, 17, 19, 21, 23, 25]"
      ]
     },
     "execution_count": 4,
     "metadata": {},
     "output_type": "execute_result"
    }
   ],
   "source": [
    "odd_number(my_list)"
   ]
  },
  {
   "cell_type": "markdown",
   "id": "1f437b43",
   "metadata": {},
   "source": [
    "#### Q2. Why *args and **kwargs is used in some functions? Create a function each for *args and **kwargs to demonstrate their use."
   ]
  },
  {
   "cell_type": "markdown",
   "id": "53b357e2",
   "metadata": {},
   "source": [
    "Ans.*args and **kwargs are used in functions to pass a variable number of arguments to a function.\n",
    "args allows you to pass a non-keyworded, variable-length argument list to the function.\n",
    "kwargs allows you to pass key-worded ie. key value, variable-length argument list to a function.\n"
   ]
  },
  {
   "cell_type": "code",
   "execution_count": 5,
   "id": "11e17ef7",
   "metadata": {},
   "outputs": [],
   "source": [
    "# Example of args\n",
    "def sum_num(*args):\n",
    "    return sum(args)"
   ]
  },
  {
   "cell_type": "code",
   "execution_count": 6,
   "id": "4b3d0a6d",
   "metadata": {},
   "outputs": [
    {
     "data": {
      "text/plain": [
       "17"
      ]
     },
     "execution_count": 6,
     "metadata": {},
     "output_type": "execute_result"
    }
   ],
   "source": [
    "sum_num(4,6,7)"
   ]
  },
  {
   "cell_type": "code",
   "execution_count": 7,
   "id": "d16dd094",
   "metadata": {},
   "outputs": [],
   "source": [
    "# Example of kwargs\n",
    "def choice_fruit(**kwargs):\n",
    "    if 'Fruit' in kwargs:\n",
    "         print(f\"The choice of your fruit is {kwargs['Fruit']}\")"
   ]
  },
  {
   "cell_type": "code",
   "execution_count": 8,
   "id": "4fe9fbf0",
   "metadata": {},
   "outputs": [
    {
     "name": "stdout",
     "output_type": "stream",
     "text": [
      "The choice of your fruit is Banana\n"
     ]
    }
   ],
   "source": [
    "choice_fruit(Vegetable = \"Carrot\", Dairy = \"Cheese\", Fruit = \"Banana\", Snack = \"Potato chips\", Beverage = \"Tea\")"
   ]
  },
  {
   "cell_type": "markdown",
   "id": "2597e542",
   "metadata": {},
   "source": [
    "#### Q3. What is an iterator in python? Name the method used to initialise the iterator object and the method\n",
    "used for iteration. Use these methods to print the first five elements of the given list [2, 4, 6, 8, 10, 12, 14,\n",
    "16, 18, 20]."
   ]
  },
  {
   "cell_type": "markdown",
   "id": "52e62a02",
   "metadata": {},
   "source": [
    "Ans. An iterator in Python is an object that can be iterated over, i.e. it provides a sequence of values to loop through. The method used to initialise the iterator object is the iter() method and the method used for iteration is the next() method."
   ]
  },
  {
   "cell_type": "code",
   "execution_count": 9,
   "id": "447f5386",
   "metadata": {},
   "outputs": [
    {
     "name": "stdout",
     "output_type": "stream",
     "text": [
      "2\n",
      "4\n",
      "6\n",
      "8\n",
      "10\n"
     ]
    }
   ],
   "source": [
    "# Example: \n",
    "\n",
    "list_l = [2, 4, 6, 8, 10, 12, 14, 16, 18, 20] \n",
    "my_iter = iter(list_l) \n",
    "\n",
    "print(next(my_iter)) \n",
    "print(next(my_iter)) \n",
    "print(next(my_iter)) \n",
    "print(next(my_iter)) \n",
    "print(next(my_iter))"
   ]
  },
  {
   "cell_type": "markdown",
   "id": "8f1a9079",
   "metadata": {},
   "source": [
    "#### Q4.What is a generator function in python? Why yield keyword is used? Give an example of a generator\n",
    "function."
   ]
  },
  {
   "cell_type": "markdown",
   "id": "8326e0bc",
   "metadata": {},
   "source": [
    "A generator function is a function that returns an iterable generator object. It is defined like a normal function, but uses the yield keyword instead of return. This allows the function to generate a sequence of values, which can then be iterated over in a for loop.\n",
    "The yield keyword is used to \"return\" values from the generator function. It is different from the return keyword, in that it pauses the function's execution at that point, and returns the yielded value."
   ]
  },
  {
   "cell_type": "code",
   "execution_count": 10,
   "id": "94741f37",
   "metadata": {},
   "outputs": [],
   "source": [
    "# Example of generator function\n",
    "from random import randint\n",
    "\n",
    "def random_gen():\n",
    "    while True:\n",
    "        yield randint(1, 100)"
   ]
  },
  {
   "cell_type": "code",
   "execution_count": 11,
   "id": "bd82767c",
   "metadata": {},
   "outputs": [],
   "source": [
    "r_num = random_gen()"
   ]
  },
  {
   "cell_type": "code",
   "execution_count": 12,
   "id": "428e0a32",
   "metadata": {},
   "outputs": [
    {
     "name": "stdout",
     "output_type": "stream",
     "text": [
      "71\n",
      "81\n",
      "56\n",
      "15\n",
      "7\n"
     ]
    }
   ],
   "source": [
    "gen = random_gen()\n",
    "for _ in range(5):\n",
    "    print(next(gen))"
   ]
  },
  {
   "cell_type": "markdown",
   "id": "78a11ad1",
   "metadata": {},
   "source": [
    "#### Q5. Create a generator function for prime numbers less than 1000. Use the next() method to print the first 20 prime numbers."
   ]
  },
  {
   "cell_type": "code",
   "execution_count": 40,
   "id": "3286eb14",
   "metadata": {},
   "outputs": [],
   "source": [
    "def prime_gen():\n",
    "    for num in range(2,1000):\n",
    "        prime = True\n",
    "        for j in range(2,num):\n",
    "            if num%j == 0:\n",
    "                prime = False\n",
    "        if prime:\n",
    "            yield num"
   ]
  },
  {
   "cell_type": "code",
   "execution_count": 41,
   "id": "694a6f98",
   "metadata": {},
   "outputs": [],
   "source": [
    "prime_number = prime_gen()"
   ]
  },
  {
   "cell_type": "code",
   "execution_count": 42,
   "id": "65642881",
   "metadata": {},
   "outputs": [
    {
     "name": "stdout",
     "output_type": "stream",
     "text": [
      "2\n",
      "3\n",
      "5\n",
      "7\n",
      "11\n",
      "13\n",
      "17\n",
      "19\n",
      "23\n",
      "29\n",
      "31\n",
      "37\n",
      "41\n",
      "43\n",
      "47\n",
      "53\n",
      "59\n",
      "61\n",
      "67\n",
      "71\n"
     ]
    }
   ],
   "source": [
    "for i in range(20):\n",
    "    print(next(prime_number))"
   ]
  },
  {
   "cell_type": "code",
   "execution_count": 36,
   "id": "49adfa6d",
   "metadata": {},
   "outputs": [],
   "source": [
    "# Alternate way to find prime number in a given range\n",
    "def prime_gen(n):\n",
    "    for num in range(2,n):\n",
    "        prime = True\n",
    "        for j in range(2,num):\n",
    "            if num%j == 0:\n",
    "                prime = False\n",
    "        if prime:\n",
    "            yield num"
   ]
  },
  {
   "cell_type": "code",
   "execution_count": 38,
   "id": "21fa35b0",
   "metadata": {},
   "outputs": [
    {
     "name": "stdout",
     "output_type": "stream",
     "text": [
      "2\n",
      "3\n",
      "5\n",
      "7\n",
      "11\n",
      "13\n",
      "17\n",
      "19\n"
     ]
    }
   ],
   "source": [
    "for i in prime_gen(21):\n",
    "    print(i)"
   ]
  },
  {
   "cell_type": "markdown",
   "id": "e1e85ac0",
   "metadata": {},
   "source": [
    "#### Q6. Write a python program to print the first 10 Fibonacci numbers using a while loop."
   ]
  },
  {
   "cell_type": "code",
   "execution_count": 13,
   "id": "78263c2d",
   "metadata": {},
   "outputs": [],
   "source": [
    "def fib():\n",
    "    a,b = 0,1\n",
    "    while True:\n",
    "        yield a\n",
    "        a,b = b , a+b"
   ]
  },
  {
   "cell_type": "code",
   "execution_count": 14,
   "id": "bacd83ad",
   "metadata": {},
   "outputs": [],
   "source": [
    "fib_10 = fib()"
   ]
  },
  {
   "cell_type": "code",
   "execution_count": 15,
   "id": "8bb5f08a",
   "metadata": {},
   "outputs": [
    {
     "name": "stdout",
     "output_type": "stream",
     "text": [
      "0\n",
      "1\n",
      "1\n",
      "2\n",
      "3\n",
      "5\n",
      "8\n",
      "13\n",
      "21\n",
      "34\n"
     ]
    }
   ],
   "source": [
    "for i in range(10):\n",
    "    print(next(fib_10))"
   ]
  },
  {
   "cell_type": "markdown",
   "id": "cdb7ab5c",
   "metadata": {},
   "source": [
    "#### Q7. Write a List Comprehension to iterate through the given string: ‘pwskills’. Expected output: ['p', 'w', 's', 'k', 'i', 'l', 'l', 's']"
   ]
  },
  {
   "cell_type": "code",
   "execution_count": 51,
   "id": "3a09cea8",
   "metadata": {},
   "outputs": [
    {
     "data": {
      "text/plain": [
       "['p', 'w', 's', 'k', 'i', 'l', 'l', 's']"
      ]
     },
     "execution_count": 51,
     "metadata": {},
     "output_type": "execute_result"
    }
   ],
   "source": [
    "string = \"pwskills\"\n",
    "new_list = [x for x in string]\n",
    "new_list"
   ]
  },
  {
   "cell_type": "markdown",
   "id": "27ab513b",
   "metadata": {},
   "source": [
    "#### Q8. Write a python program to check whether a given number is Palindrome or not using a while loop."
   ]
  },
  {
   "cell_type": "code",
   "execution_count": 74,
   "id": "d6ff5555",
   "metadata": {},
   "outputs": [
    {
     "name": "stdout",
     "output_type": "stream",
     "text": [
      "Enter a number 767\n",
      "Number is a palindrome\n"
     ]
    }
   ],
   "source": [
    "num = int(input(\"Enter a number \"))\n",
    "rev = 0\n",
    "x = num\n",
    "while num > 0 :\n",
    "    rev = rev*10 + num%10\n",
    "    num = num // 10\n",
    "if rev==x:\n",
    "    print(\"Number is a palindrome\")\n",
    "else:\n",
    "    print(\"Number is not a palindrome\")"
   ]
  },
  {
   "cell_type": "markdown",
   "id": "4c1dafa3",
   "metadata": {},
   "source": [
    "#### Q9. Write a code to print odd numbers from 1 to 100 using list comprehension.\n",
    "Note: Use a list comprehension to create a list from 1 to 100 and use another List comprehension to filter\n",
    "out odd numbers."
   ]
  },
  {
   "cell_type": "code",
   "execution_count": 69,
   "id": "08a0c155",
   "metadata": {},
   "outputs": [],
   "source": [
    "my_list = list(range(1,101))"
   ]
  },
  {
   "cell_type": "code",
   "execution_count": 72,
   "id": "1f41e684",
   "metadata": {},
   "outputs": [],
   "source": [
    "odd_list = [x for x in my_list if x%2 != 0]"
   ]
  },
  {
   "cell_type": "code",
   "execution_count": 73,
   "id": "d3f2099f",
   "metadata": {},
   "outputs": [
    {
     "data": {
      "text/plain": [
       "[1,\n",
       " 3,\n",
       " 5,\n",
       " 7,\n",
       " 9,\n",
       " 11,\n",
       " 13,\n",
       " 15,\n",
       " 17,\n",
       " 19,\n",
       " 21,\n",
       " 23,\n",
       " 25,\n",
       " 27,\n",
       " 29,\n",
       " 31,\n",
       " 33,\n",
       " 35,\n",
       " 37,\n",
       " 39,\n",
       " 41,\n",
       " 43,\n",
       " 45,\n",
       " 47,\n",
       " 49,\n",
       " 51,\n",
       " 53,\n",
       " 55,\n",
       " 57,\n",
       " 59,\n",
       " 61,\n",
       " 63,\n",
       " 65,\n",
       " 67,\n",
       " 69,\n",
       " 71,\n",
       " 73,\n",
       " 75,\n",
       " 77,\n",
       " 79,\n",
       " 81,\n",
       " 83,\n",
       " 85,\n",
       " 87,\n",
       " 89,\n",
       " 91,\n",
       " 93,\n",
       " 95,\n",
       " 97,\n",
       " 99]"
      ]
     },
     "execution_count": 73,
     "metadata": {},
     "output_type": "execute_result"
    }
   ],
   "source": [
    "odd_list"
   ]
  }
 ],
 "metadata": {
  "kernelspec": {
   "display_name": "Python 3 (ipykernel)",
   "language": "python",
   "name": "python3"
  },
  "language_info": {
   "codemirror_mode": {
    "name": "ipython",
    "version": 3
   },
   "file_extension": ".py",
   "mimetype": "text/x-python",
   "name": "python",
   "nbconvert_exporter": "python",
   "pygments_lexer": "ipython3",
   "version": "3.9.13"
  }
 },
 "nbformat": 4,
 "nbformat_minor": 5
}
